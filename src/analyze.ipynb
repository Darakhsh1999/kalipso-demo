{
 "cells": [
  {
   "cell_type": "code",
   "execution_count": 14,
   "id": "17f2bf86",
   "metadata": {},
   "outputs": [],
   "source": [
    "import json\n",
    "import PyPDF2 as pdf2"
   ]
  },
  {
   "cell_type": "markdown",
   "id": "f11453d1",
   "metadata": {},
   "source": [
    "### Load in requirements and policy"
   ]
  },
  {
   "cell_type": "code",
   "execution_count": 8,
   "id": "e49062ad",
   "metadata": {},
   "outputs": [],
   "source": [
    "# Load in requirements\n",
    "with open(\"requirements_assignment.json\", \"r\") as f:\n",
    "    requirements = json.load(f)\n",
    "\n",
    "# Load in policy\n",
    "with open (\"fake_policy.pdf\", \"rb\") as f:\n",
    "   pdf = pdf2.PdfReader(f)"
   ]
  },
  {
   "cell_type": "markdown",
   "id": "52c88c1e",
   "metadata": {},
   "source": [
    "### Inspect requirements"
   ]
  },
  {
   "cell_type": "code",
   "execution_count": null,
   "id": "5322d485",
   "metadata": {},
   "outputs": [
    {
     "name": "stdout",
     "output_type": "stream",
     "text": [
      "{'requirement_description': 'Investment firms seeking authorization must ensure that competent authorities are informed of the identities of all shareholders or members (whether direct or indirect, natural or legal persons) that have qualifying holdings and the amounts of those holdings before authorization can be granted. This disclosure requirement applies to <article_reference article_id=\"10\" regulation_id=\"02014L0065-20250117\" domain=\"EU\"/> and must be completed as a prerequisite to receiving authorization to provide investment services or perform investment activities.'}\n",
      "{'requirement_description': 'Investment firms must ensure they do not have close links with natural or legal persons governed by third country laws that would prevent the effective exercise of supervisory functions by competent authorities. Investment firms must also ensure that any influence exercised by qualifying shareholders or members does not prejudice sound and prudent management of the firm. This requirement applies under <article_reference article_id=\"10\" regulation_id=\"02014L0065-20250117\" domain=\"EU\"/>.'}\n",
      "{'requirement_description': 'Natural or legal persons or such persons acting in concert who have decided to acquire, directly or indirectly, a qualifying holding in an investment firm or to further increase such a qualifying holding, where the proportion of voting rights or capital would reach or exceed 20%, 30% or 50% or would make the investment firm their subsidiary, must notify in writing the competent authorities of the investment firm. The notification must indicate the size of the intended holding and include relevant information as referred to in <article_reference article_id=\"13\" regulation_id=\"02014L0065-20250117\" domain=\"EU\"/>.'}\n",
      "{'requirement_description': 'Investment firms must inform the competent authority without delay if they become aware of any acquisitions or disposals of holdings in their capital that cause holdings to exceed or fall below any of the thresholds of 20%, 30% or 50% of voting rights or capital, or that affect subsidiary status.'}\n",
      "{'requirement_description': 'Competent authorities must acknowledge receipt of notifications from proposed acquirers in writing within two working days following receipt of the notification required under <article_reference article_id=\"11\" regulation_id=\"02014L0065-20250117\" domain=\"EU\"/> or following the subsequent receipt of additional information.'}\n",
      "{'requirement_description': 'Competent authorities may request any further information necessary to complete the assessment during the assessment period, no later than on the 50th working day of the assessment period. Such requests must be made in writing and specify the additional information needed.'}\n",
      "{'requirement_description': 'Competent authorities may extend the interruption period up to 30 working days if the proposed acquirer is a natural or legal person situated or regulated outside the Union, or a natural or legal person not subject to supervision under this Directive or Directives 2009/65/EC, 2009/138/EC or 2013/36/EU.'}\n",
      "{'requirement_description': 'If competent authorities decide to oppose a proposed acquisition upon completion of the assessment, they must inform the proposed acquirer in writing within two working days and not exceeding the assessment period, providing the reasons for that decision. Subject to national law, an appropriate statement of the reasons may be made accessible to the public at the request of the proposed acquirer.'}\n",
      "{'requirement_description': 'If competent authorities do not oppose a proposed acquisition within the assessment period in writing, the acquisition shall be deemed to be approved.'}\n",
      "{'requirement_description': 'Competent authorities may fix a maximum period for concluding the proposed acquisition and extend it where appropriate.'}\n",
      "{'requirement_description': 'Member States may not impose requirements for the notification to and approval by the competent authorities of direct or indirect acquisitions of voting rights or capital that are more stringent than those set out in this Directive.'}\n",
      "{'requirement_description': 'Proposed acquirers must ensure they meet suitability criteria when seeking to acquire qualifying holdings in investment firms. The proposed acquirer must maintain good reputation, demonstrate financial soundness appropriate to the investment firm\\'s business type, and ensure that any persons who will direct the business have appropriate reputation and experience. The proposed acquirer must also ensure the investment firm will be able to comply with prudential requirements under <article_reference article_id=\"13\" regulation_id=\"02014L0065-20250117\" domain=\"EU\"/> and applicable directives including Directives 2002/87/EC and 2013/36/EU, with a group structure that enables effective supervision and information exchange among competent authorities. Additionally, the proposed acquirer must not be involved in money laundering or terrorist financing activities as defined in Article 1 of Directive 2005/60/EC, and the acquisition must not increase such risks.'}\n",
      "{'requirement_description': 'Proposed acquirers must provide complete and proportionate information necessary for prudential assessment when notifying competent authorities of proposed acquisitions under <article_reference article_id=\"13\" regulation_id=\"02014L0065-20250117\" domain=\"EU\"/>. The information must be adapted to the nature of the proposed acquirer and the proposed acquisition, and must be relevant for prudential assessment purposes. Acquirers should consult the publicly available list of required information specified by Member States.'}\n",
      "{'requirement_description': 'Any entity seeking authorisation as an investment firm must meet its obligations under Directive 97/9/EC at the time of authorisation, as verified by the competent authority. For structured deposits, this obligation is satisfied when the structured deposit is issued by a credit institution that is a member of a deposit guarantee scheme recognised under Directive 2014/49/EU.'}\n",
      "{'requirement_description': 'Investment firms must maintain sufficient initial capital in accordance with the requirements of Article 9 of Directive (EU) 2019/2034 of the European Parliament and of the Council, having regard to the nature of the investment service or activity in question, as a prerequisite for obtaining authorization from competent authorities.'}\n",
      "{'requirement_description': 'Investment firms must establish adequate policies and procedures sufficient to ensure compliance of the firm including its managers, employees and tied agents with its obligations under <article_reference article_id=\"16\" regulation_id=\"Directive 2014/65/EU\" domain=\"EU\"/> as well as appropriate rules governing personal transactions by such persons.'}\n",
      "{'requirement_description': 'Investment firms must maintain and operate effective organisational and administrative arrangements with a view to taking all reasonable steps designed to prevent conflicts of interest as defined in <article_reference article_id=\"23\" regulation_id=\"Directive 2014/65/EU\" domain=\"EU\"/> from adversely affecting the interests of its clients.'}\n",
      "{'requirement_description': \"Investment firms must take reasonable steps to ensure continuity and regularity in the performance of investment services and activities. To that end, the investment firm must employ appropriate and proportionate systems, including information and communication technology ('ICT') systems that are set up and managed in accordance with Article 7 of Regulation (EU) 2022/2554 of the European Parliament and of the Council, as well as appropriate and proportionate resources and procedures.\"}\n",
      "{'requirement_description': \"When relying on a third party for the performance of operational functions which are critical for the provision of continuous and satisfactory service to clients and the performance of investment activities on a continuous and satisfactory basis, investment firms must take reasonable steps to avoid undue additional operational risk. Outsourcing of important operational functions may not be undertaken in such a way as to impair materially the quality of its internal control and the ability of the supervisor to monitor the firm's compliance with all obligations.\"}\n",
      "{'requirement_description': 'Investment firms must arrange for records to be kept of all services, activities and transactions undertaken by it which shall be sufficient to enable the competent authority to fulfil its supervisory tasks and to perform the enforcement actions under <article_reference article_id=\"16\" regulation_id=\"Directive 2014/65/EU\" domain=\"EU\"/>, Regulation (EU) No 600/2014, Directive 2014/57/EU and Regulation (EU) No 596/2014, and in particular to ascertain that the investment firm has complied with all obligations including those with respect to clients or potential clients and to the integrity of the market.'}\n",
      "{'requirement_description': 'Investment firms must ensure that records include the recording of telephone conversations or electronic communications relating to, at least, transactions concluded when dealing on own account and the provision of client order services that relate to the reception, transmission and execution of client orders.'}\n",
      "{'requirement_description': \"When holding financial instruments belonging to clients, investment firms must make adequate arrangements so as to safeguard the ownership rights of clients, especially in the event of the investment firm's insolvency, and to prevent the use of a client's financial instruments on own account except with the client's express consent.\"}\n",
      "{'requirement_description': 'When holding funds belonging to clients, investment firms must make adequate arrangements to safeguard the rights of clients and, except in the case of credit institutions, prevent the use of client funds for its own account.'}\n",
      "{'requirement_description': 'Investment firms must not conclude title transfer financial collateral arrangements with retail clients for the purpose of securing or covering present or future, actual or contingent or prospective obligations of clients.'}\n",
      "{'requirement_description': 'Investment firms that engage in algorithmic trading must implement and maintain effective systems and risk controls appropriate to their business operations. These systems must ensure trading systems are resilient and have sufficient capacity in accordance with the requirements laid down in Chapter II of Regulation (EU) 2022/2554, are subject to appropriate trading thresholds and limits, and prevent the sending of erroneous orders or systems functioning in a way that may create or contribute to a disorderly market.'}\n"
     ]
    }
   ],
   "source": [
    "for requirement in requirements:\n",
    "    print(requirement)\n",
    "print(f\"Detected {len(requirements)} requirements\")"
   ]
  },
  {
   "cell_type": "markdown",
   "id": "3cbe4609",
   "metadata": {},
   "source": [
    "### Inspect policy.pdf"
   ]
  },
  {
   "cell_type": "code",
   "execution_count": 18,
   "id": "28ea6a8f",
   "metadata": {},
   "outputs": [
    {
     "name": "stdout",
     "output_type": "stream",
     "text": [
      "Number of pages: 3\n",
      "Investment Services Policy Document\n",
      "Investment Services Policy Document\n",
      "Falcon Capital Management Ltd.\n",
      "Falcon Capital Management Ltd.\n",
      "Version:\n",
      "Version:\n",
      " 2.1\n",
      "Effective Date:\n",
      "Effective Date:\n",
      " January 15, 2024\n",
      "Document Classification:\n",
      "Document Classification:\n",
      " Internal Policy\n",
      "1. Introduction and Scope\n",
      "1. Introduction and Scope\n",
      "This policy document outlines the operational framework, compliance procedures, and governance structure of Falcon Capital Management Ltd. (\"the Firm\") as an\n",
      "investment firm \n"
     ]
    }
   ],
   "source": [
    "import PyPDF2\n",
    "\n",
    "def extract_text_from_pdf(file_path):\n",
    "    \"\"\"\n",
    "    Extract text from a PDF file.\n",
    "    \n",
    "    Args:\n",
    "        file_path (str): Path to the PDF file\n",
    "        \n",
    "    Returns:\n",
    "        str: Extracted text from the PDF\n",
    "    \"\"\"\n",
    "    text = \"\"\n",
    "    \n",
    "    # Open the PDF file in read-binary mode\n",
    "    with open(file_path, 'rb') as file:\n",
    "        # Create a PDF reader object\n",
    "        pdf_reader = PyPDF2.PdfReader(file)\n",
    "        \n",
    "        # Get the number of pages\n",
    "        num_pages = len(pdf_reader.pages)\n",
    "        print(f\"Number of pages: {num_pages}\")\n",
    "        \n",
    "        # Extract text from each page\n",
    "        for page_num in range(num_pages):\n",
    "            page = pdf_reader.pages[page_num]\n",
    "            text += page.extract_text() + \"\\n\\n\"\n",
    "    \n",
    "    return text\n",
    "\n",
    "# Example usage\n",
    "pdf_path = \"fake_policy.pdf\"\n",
    "extracted_text = extract_text_from_pdf(pdf_path)\n",
    "print(extracted_text[:500])  # Print first 500 characters\n",
    "\n"
   ]
  }
 ],
 "metadata": {
  "kernelspec": {
   "display_name": ".venv",
   "language": "python",
   "name": "python3"
  },
  "language_info": {
   "codemirror_mode": {
    "name": "ipython",
    "version": 3
   },
   "file_extension": ".py",
   "mimetype": "text/x-python",
   "name": "python",
   "nbconvert_exporter": "python",
   "pygments_lexer": "ipython3",
   "version": "3.12.3"
  }
 },
 "nbformat": 4,
 "nbformat_minor": 5
}
